{
 "cells": [
  {
   "cell_type": "markdown",
   "metadata": {},
   "source": [
    "# Notes / TODO  \n",
    "\n",
    "- Random seeding  \n",
    "- Preproc transforms\n",
    "- augmentations\n",
    "   - no augmentation for validation\n",
    "- Train-Validation-Test data\n",
    "    - split train data 40 - 5\n",
    "    - infer all test data save results\n",
    "    - visualize results\n",
    "- \n",
    "    \n",
    "- Train workflow\n",
    "    - lr find\n",
    "    - more epochs ?"
   ]
  },
  {
   "cell_type": "code",
   "execution_count": 1,
   "metadata": {},
   "outputs": [],
   "source": [
    "from eisen.datasets import ABCsDataset\n",
    "from eisen.models.segmentation import VNet\n",
    "from eisen.io import LoadITKFromFilename\n",
    "from eisen.transforms import (\n",
    "    ResampleITKVolumes,\n",
    "    ITKToNumpy,\n",
    "    CropCenteredSubVolumes,\n",
    "    AddChannelDimension,\n",
    "    MapValues,\n",
    "    FixedMeanStdNormalization,\n",
    "    LabelMapToOneHot,\n",
    "    StackImagesChannelwise,\n",
    "    FilterFields\n",
    ")"
   ]
  },
  {
   "cell_type": "code",
   "execution_count": 2,
   "metadata": {},
   "outputs": [],
   "source": [
    "from eisen.ops.losses import DiceLoss\n",
    "from eisen.ops.metrics import DiceMetric\n",
    "from eisen.utils import EisenModuleWrapper, EisenTransformWrapper\n",
    "from eisen.utils.workflows import Training\n",
    "\n",
    "from eisen.utils.logging import LoggingHook\n",
    "from eisen.utils.logging import TensorboardSummaryHook\n",
    "from eisen.utils.artifacts import SaveTorchModelHook\n",
    "\n",
    "from torchvision.transforms import Compose\n",
    "from torch.utils.data import DataLoader\n",
    "from torch.optim import Adam"
   ]
  },
  {
   "cell_type": "code",
   "execution_count": 3,
   "metadata": {},
   "outputs": [],
   "source": [
    "from datetime import datetime\n",
    "import os\n",
    "now = datetime.now() # current date and time\n",
    "date_time = now.strftime(\"%d-%m-%Y_%H:%M:%S\")\n",
    "\n",
    "# Defining some constants\n",
    "PATH_DATA = 'Data/ABCs_training_data/'  # path of data as unpacked from the challenge files\n",
    "PATH_ARTIFACTS = f'./results/{date_time}'  # path for model results\n",
    "\n",
    "if not os.path.exists(PATH_ARTIFACTS):\n",
    "    os.system('mkdir' + \" \" + PATH_ARTIFACTS)\n",
    "\n",
    "TASK = 'task1'\n",
    "#TASK = 'task2'\n",
    "\n",
    "NUM_EPOCHS = 100\n",
    "BATCH_SIZE = 2\n",
    "\n",
    "VOLUMES_RESOLUTION = [2, 2, 1.5]\n",
    "VOLUMES_PIXEL_SIZE = [128, 128, 128]"
   ]
  },
  {
   "cell_type": "code",
   "execution_count": 4,
   "metadata": {},
   "outputs": [],
   "source": [
    "if TASK == 'task1':\n",
    "    n_out_chan = 5\n",
    "    label_field = 'label_task1'\n",
    "else:\n",
    "    n_out_chan = 10\n",
    "    label_field = 'label_task2'"
   ]
  },
  {
   "cell_type": "markdown",
   "metadata": {},
   "source": [
    "# Preprocesses"
   ]
  },
  {
   "cell_type": "code",
   "execution_count": 5,
   "metadata": {},
   "outputs": [],
   "source": [
    "\"\"\"\n",
    "Define Readers and Transforms\n",
    "In order to load data and prepare it for being used by the network, we need to operate \n",
    "I/O operations and define transforms to standardize data.\n",
    "You can add transforms or change the existing ones by editing this\n",
    "\"\"\"\n",
    "\n",
    "# readers: for images and labels\n",
    "read_tform = LoadITKFromFilename(['ct', 't1', 't2', label_field], PATH_DATA)\n",
    "\n",
    "# image manipulation transforms\n",
    "\n",
    "resample_tform_img = ResampleITKVolumes(\n",
    "    ['ct', 't1', 't2'],\n",
    "    VOLUMES_RESOLUTION,\n",
    "    'linear'\n",
    ")\n",
    "\n",
    "resample_tform_lbl = ResampleITKVolumes(\n",
    "    [label_field],\n",
    "    VOLUMES_RESOLUTION,\n",
    "    'nearest'\n",
    ")\n",
    "\n",
    "to_numpy_tform = ITKToNumpy(['ct', 't1', 't2', label_field])\n",
    "\n",
    "crop = CropCenteredSubVolumes(fields=['ct', 't1', 't2', label_field], size=VOLUMES_PIXEL_SIZE)\n",
    "\n",
    "map_intensities = MapValues(['t1', 't2'], min_value=0.0, max_value=1.0)\n",
    "\n",
    "normalize_ct = FixedMeanStdNormalization(['ct'], mean=208.0, std=388.0)\n",
    "\n",
    "if TASK == 'task1':\n",
    "    map_labels = LabelMapToOneHot([label_field], [1, 2, 3, 4, 5])\n",
    "else:\n",
    "    map_labels = LabelMapToOneHot([label_field], [1, 2, 3, 4, 5, 6, 7, 8, 9, 10])\n",
    "\n",
    "stack_modalities = StackImagesChannelwise(['ct', 't1', 't2'], 'image')\n",
    "preserve_only_fields = FilterFields(['image', label_field])"
   ]
  },
  {
   "cell_type": "code",
   "execution_count": 6,
   "metadata": {},
   "outputs": [],
   "source": [
    "# create a transform to manipulate and load data\n",
    "train_tform = Compose([\n",
    "    read_tform,\n",
    "    resample_tform_img,\n",
    "    resample_tform_lbl,\n",
    "    to_numpy_tform,\n",
    "    crop,\n",
    "    map_intensities,\n",
    "    normalize_ct,\n",
    "    map_labels,\n",
    "\n",
    "])"
   ]
  },
  {
   "cell_type": "markdown",
   "metadata": {},
   "source": [
    "# Custom Augmentations  \n",
    "- random op needs to be constant among applied fields\n",
    "- write a new wrapper for controllig random tfms\n",
    "- rewrite transforms according to the source code from torchio\n",
    "    - https://torchio.readthedocs.io/transforms/augmentation.html"
   ]
  },
  {
   "cell_type": "code",
   "execution_count": 7,
   "metadata": {},
   "outputs": [
    {
     "name": "stdout",
     "output_type": "stream",
     "text": [
      "If you use TorchIO for your research, please cite the following paper:\n",
      "Pérez-García et al., TorchIO: a Python library for efficient loading,\n",
      "preprocessing, augmentation and patch-based sampling of medical images\n",
      "in deep learning. Link: https://arxiv.org/abs/2003.04696\n",
      "\n"
     ]
    }
   ],
   "source": [
    "import torchio\n",
    "from torchio import Subject, ScalarImage, LabelMap"
   ]
  },
  {
   "cell_type": "code",
   "execution_count": 8,
   "metadata": {},
   "outputs": [],
   "source": [
    "from torchio.transforms import (\n",
    "    RandomFlip,\n",
    "    RandomElasticDeformation,\n",
    "    RandomAffine,\n",
    "    RandomMotion,    \n",
    "    RandomBiasField,\n",
    "    RandomNoise,\n",
    "    OneOf,\n",
    "    \n",
    "    RandomBlur,\n",
    "    RandomSpike,\n",
    "    RandomGhosting,\n",
    ")"
   ]
  },
  {
   "cell_type": "code",
   "execution_count": 9,
   "metadata": {},
   "outputs": [],
   "source": [
    "class EisenTransformWrapper:\n",
    "    \n",
    "    def __init__(self, transform, fields, label):\n",
    "        super(EisenTransformWrapper, self).__init__()\n",
    "        self.fields = fields\n",
    "        self.transform = transform\n",
    "        self.label = label\n",
    "\n",
    "    def __call__(self, data):\n",
    "        \n",
    "        subject = Subject(\n",
    "        ct=ScalarImage(tensor=data['ct']),  # this class is new\n",
    "        t1=ScalarImage(tensor=data['t1']),\n",
    "        t2=ScalarImage(tensor=data['t2']),\n",
    "        label=LabelMap(tensor=data[self.label]),\n",
    "        )\n",
    "        \n",
    "        transformed = self.transform(subject)\n",
    "        \n",
    "        data['ct'] = transformed['ct'].numpy()\n",
    "        data['t1'] = transformed['t1'].numpy()\n",
    "        data['t2'] = transformed['t2'].numpy()\n",
    "        data[self.label] = transformed[self.label].numpy()\n",
    "        \n",
    "        return data"
   ]
  },
  {
   "cell_type": "code",
   "execution_count": 10,
   "metadata": {},
   "outputs": [],
   "source": [
    "R_noise = EisenTransformWrapper(RandomNoise(), fields=['ct', 't1', 't2', label_field], label=label_field)\n",
    "R_motion = EisenTransformWrapper(RandomMotion(), fields=['ct', 't1', 't2', label_field], label=label_field)\n",
    "R_bias = EisenTransformWrapper(RandomBiasField(), fields=['ct', 't1', 't2', label_field], label=label_field)\n",
    "R_flip = EisenTransformWrapper(RandomFlip(axes=(0,)), fields=['ct', 't1', 't2', label_field], label=label_field)\n",
    "R_deform = EisenTransformWrapper(OneOf({RandomAffine(): 0.8, RandomElasticDeformation(): 0.2,}), \n",
    "                            fields=['ct', 't1', 't2', label_field], label=label_field)"
   ]
  },
  {
   "cell_type": "code",
   "execution_count": 11,
   "metadata": {},
   "outputs": [],
   "source": [
    "# create a transform to manipulate and load data\n",
    "train_tform = Compose([\n",
    "    read_tform,\n",
    "    resample_tform_img,\n",
    "    resample_tform_lbl,\n",
    "    to_numpy_tform,\n",
    "    crop,\n",
    "    map_intensities,\n",
    "    normalize_ct,\n",
    "    map_labels,\n",
    "    R_noise,\n",
    "    R_motion,\n",
    "    R_bias,\n",
    "    R_flip,\n",
    "    R_deform,\n",
    "    stack_modalities,\n",
    "    preserve_only_fields\n",
    "])"
   ]
  },
  {
   "cell_type": "code",
   "execution_count": 12,
   "metadata": {},
   "outputs": [],
   "source": [
    "val_tform = Compose([\n",
    "    read_tform,\n",
    "    resample_tform_img,\n",
    "    resample_tform_lbl,\n",
    "    to_numpy_tform,\n",
    "    crop,\n",
    "    map_intensities,\n",
    "    normalize_ct,\n",
    "    map_labels,\n",
    "    stack_modalities,\n",
    "    preserve_only_fields\n",
    "])"
   ]
  },
  {
   "cell_type": "markdown",
   "metadata": {},
   "source": [
    "# Train-Val Split"
   ]
  },
  {
   "cell_type": "code",
   "execution_count": 13,
   "metadata": {},
   "outputs": [
    {
     "data": {
      "text/plain": [
       "45"
      ]
     },
     "execution_count": 13,
     "metadata": {},
     "output_type": "execute_result"
    }
   ],
   "source": [
    "# create a dataset from the training set of the ABC dataset\n",
    "dataset = ABCsDataset(\n",
    "    PATH_DATA,\n",
    "    training=True,\n",
    "    flat_dir_structure=True,  # check documentation\n",
    "    transform=val_tform\n",
    ")\n",
    "len(dataset)"
   ]
  },
  {
   "cell_type": "code",
   "execution_count": 14,
   "metadata": {},
   "outputs": [],
   "source": [
    "from torch.utils.data import random_split as random_split\n",
    "import numpy as np\n",
    "train_size = int(0.8 * len(dataset))\n",
    "test_size = len(dataset) - train_size\n",
    "\n",
    "train_set , val_set = random_split(dataset, [train_size, test_size])\n",
    "train_set.transform = train_tform"
   ]
  },
  {
   "cell_type": "code",
   "execution_count": 15,
   "metadata": {},
   "outputs": [
    {
     "name": "stdout",
     "output_type": "stream",
     "text": [
      "train_set 36\n",
      "val_set 9\n"
     ]
    }
   ],
   "source": [
    "print('train_set', len(train_set))\n",
    "print('val_set', len(val_set))"
   ]
  },
  {
   "cell_type": "code",
   "execution_count": 16,
   "metadata": {},
   "outputs": [],
   "source": [
    "train_loader = DataLoader(train_set, shuffle=True, batch_size=2, num_workers=6)\n",
    "val_loader = DataLoader(val_set, shuffle=True, num_workers=6)"
   ]
  },
  {
   "cell_type": "code",
   "execution_count": 17,
   "metadata": {},
   "outputs": [],
   "source": [
    "# specify model and loss (building blocks)\n",
    "\n",
    "model = EisenModuleWrapper(\n",
    "    module=VNet(input_channels=3, output_channels=n_out_chan),\n",
    "    input_names=['image'],\n",
    "    output_names=['predictions']\n",
    ")\n"
   ]
  },
  {
   "cell_type": "code",
   "execution_count": 18,
   "metadata": {},
   "outputs": [],
   "source": [
    "# CHANGE TASK HERE if needed!!\n",
    "loss = EisenModuleWrapper(\n",
    "    module=DiceLoss(dim=[2, 3, 4]),\n",
    "    input_names=['predictions', label_field],\n",
    "    output_names=['dice_loss']\n",
    ")\n",
    "# CHANGE TASK HERE if needed!!\n",
    "metric = EisenModuleWrapper(\n",
    "    module=DiceMetric(dim=[2, 3, 4]),\n",
    "    input_names=['predictions', label_field],\n",
    "    output_names=['dice_metric']\n",
    ")"
   ]
  },
  {
   "cell_type": "code",
   "execution_count": 19,
   "metadata": {},
   "outputs": [],
   "source": [
    "optimizer = Adam(model.parameters(), 0.001)"
   ]
  },
  {
   "cell_type": "markdown",
   "metadata": {},
   "source": [
    "# Notes\n",
    "    - write validation workflow\n",
    "    - use this Vnet as baseline model\n",
    "    - Evaluation function"
   ]
  },
  {
   "cell_type": "code",
   "execution_count": 20,
   "metadata": {},
   "outputs": [],
   "source": [
    "from eisen.utils.workflows import Validation"
   ]
  },
  {
   "cell_type": "code",
   "execution_count": 21,
   "metadata": {},
   "outputs": [],
   "source": [
    "# join all blocks into a workflow (training workflow)\n",
    "training_workflow = Training(\n",
    "      model=model,\n",
    "      losses=[loss],\n",
    "      data_loader=train_loader,\n",
    "      optimizer=optimizer,\n",
    "      metrics=[metric],\n",
    "      gpu=True\n",
    ")\n",
    "\n",
    "validation_workflow = Validation(\n",
    "      model=model,\n",
    "      losses=[loss],\n",
    "      data_loader=val_loader,\n",
    "      metrics=[metric],\n",
    "      gpu=True\n",
    ")"
   ]
  },
  {
   "cell_type": "code",
   "execution_count": 22,
   "metadata": {},
   "outputs": [],
   "source": [
    "# create Hook to monitor training and save models\n",
    "training_loggin_hook = LoggingHook(training_workflow.id, f'Training', PATH_ARTIFACTS)\n",
    "\n",
    "training_summary_hook = TensorboardSummaryHook(training_workflow.id, f'Training', PATH_ARTIFACTS)\n",
    "\n",
    "validation_summary_hook = TensorboardSummaryHook(validation_workflow.id, f'Validation', PATH_ARTIFACTS)\n",
    "\n",
    "validation_loggin_hook = LoggingHook(validation_workflow.id, f'Validation', PATH_ARTIFACTS)\n",
    "\n",
    "save_model_hook = SaveTorchModelHook(training_workflow.id, f'Training', PATH_ARTIFACTS)"
   ]
  },
  {
   "cell_type": "code",
   "execution_count": 23,
   "metadata": {},
   "outputs": [
    {
     "data": {
      "text/plain": [
       "22"
      ]
     },
     "execution_count": 23,
     "metadata": {},
     "output_type": "execute_result"
    }
   ],
   "source": [
    "import gc, torch\n",
    "torch.cuda.empty_cache()\n",
    "gc.collect()"
   ]
  },
  {
   "cell_type": "code",
   "execution_count": 24,
   "metadata": {},
   "outputs": [
    {
     "name": "stdout",
     "output_type": "stream",
     "text": [
      "+---------------------+---------------+-----------------+\n",
      "|        Phase        | dice_loss (L) | dice_metric (M) |\n",
      "+---------------------+---------------+-----------------+\n",
      "|  Training - Epoch 0 |   0.9632299   |   0.038508285   |\n",
      "|  Training - Epoch 1 |   0.92070115  |     0.092662    |\n",
      "|  Training - Epoch 2 |   0.8414877   |    0.17976911   |\n",
      "|  Training - Epoch 3 |   0.7738415   |    0.23836473   |\n",
      "|  Training - Epoch 4 |   0.6958168   |    0.27483618   |\n",
      "|  Training - Epoch 5 |   0.6347068   |    0.29447976   |\n",
      "|  Training - Epoch 6 |   0.59051394  |    0.30309832   |\n",
      "|  Training - Epoch 7 |   0.54442376  |    0.32696402   |\n",
      "|  Training - Epoch 8 |   0.50977635  |    0.4241309    |\n",
      "|  Training - Epoch 9 |   0.4764076   |    0.47792646   |\n",
      "| Training - Epoch 10 |   0.4384547   |    0.5102421    |\n",
      "| Training - Epoch 11 |   0.40803704  |    0.5383605    |\n",
      "| Training - Epoch 12 |   0.3875252   |    0.54361343   |\n",
      "| Training - Epoch 13 |   0.34950283  |     0.579211    |\n",
      "| Training - Epoch 14 |   0.3148295   |    0.64568573   |\n",
      "| Training - Epoch 15 |   0.29507384  |    0.66654366   |\n",
      "| Training - Epoch 16 |   0.27792564  |    0.6854035    |\n",
      "| Training - Epoch 17 |   0.2571698   |    0.7071228    |\n",
      "| Training - Epoch 18 |   0.24984407  |    0.7137143    |\n",
      "| Training - Epoch 19 |   0.24354246  |    0.7206742    |\n",
      "| Training - Epoch 20 |   0.22994086  |    0.73450446   |\n",
      "| Training - Epoch 21 |   0.22539984  |    0.7395704    |\n",
      "| Training - Epoch 22 |   0.21994889  |    0.74630886   |\n",
      "| Training - Epoch 23 |   0.21841702  |    0.7468402    |\n",
      "| Training - Epoch 24 |   0.21048433  |    0.75576276   |\n",
      "| Training - Epoch 25 |   0.2070296   |    0.7575484    |\n",
      "| Training - Epoch 26 |   0.21146399  |    0.7542459    |\n",
      "| Training - Epoch 27 |   0.21043967  |    0.75415766   |\n",
      "| Training - Epoch 28 |   0.19782622  |    0.76686347   |\n",
      "| Training - Epoch 29 |   0.19047934  |    0.77631253   |\n",
      "| Training - Epoch 30 |   0.1881252   |    0.77814394   |\n",
      "| Training - Epoch 31 |   0.19381185  |    0.7712959    |\n",
      "| Training - Epoch 32 |   0.18868549  |    0.77731943   |\n",
      "| Training - Epoch 33 |   0.18879777  |    0.7769442    |\n",
      "| Training - Epoch 34 |   0.19056967  |    0.7747164    |\n",
      "| Training - Epoch 35 |   0.17849135  |    0.78839105   |\n",
      "| Training - Epoch 36 |   0.1833284   |    0.78188694   |\n",
      "| Training - Epoch 37 |   0.17870611  |    0.7871297    |\n",
      "| Training - Epoch 38 |   0.17116505  |    0.79570645   |\n",
      "| Training - Epoch 39 |   0.16638523  |    0.8008431    |\n",
      "| Training - Epoch 40 |   0.1624227   |     0.804716    |\n",
      "| Training - Epoch 41 |   0.16187742  |    0.80612206   |\n",
      "| Training - Epoch 42 |   0.16356415  |    0.8038013    |\n",
      "| Training - Epoch 43 |   0.16693197  |    0.8001913    |\n",
      "| Training - Epoch 44 |   0.16466844  |    0.8028635    |\n",
      "| Training - Epoch 45 |   0.15970221  |    0.80831856   |\n",
      "| Training - Epoch 46 |   0.15671101  |    0.81112826   |\n",
      "| Training - Epoch 47 |   0.15841526  |    0.8093668    |\n",
      "| Training - Epoch 48 |   0.16266797  |    0.80426145   |\n",
      "| Training - Epoch 49 |   0.15659404  |    0.81160283   |\n",
      "| Training - Epoch 50 |   0.15581499  |    0.8117473    |\n",
      "| Training - Epoch 51 |   0.15810879  |    0.80925715   |\n",
      "| Training - Epoch 52 |   0.1527199   |    0.8153159    |\n",
      "| Training - Epoch 53 |   0.15164891  |    0.81632257   |\n",
      "| Training - Epoch 54 |   0.15787178  |    0.80942786   |\n",
      "| Training - Epoch 55 |   0.15469056  |    0.81327873   |\n",
      "| Training - Epoch 56 |   0.14999713  |    0.81835544   |\n",
      "| Training - Epoch 57 |   0.14726013  |    0.82154953   |\n",
      "| Training - Epoch 58 |   0.14582004  |    0.8229387    |\n",
      "| Training - Epoch 59 |   0.14238693  |    0.8267225    |\n",
      "| Training - Epoch 60 |   0.14326084  |    0.82552165   |\n",
      "| Training - Epoch 61 |   0.14012024  |    0.82945293   |\n",
      "| Training - Epoch 62 |   0.13627917  |    0.83369035   |\n",
      "| Training - Epoch 63 |   0.13440284  |     0.835542    |\n",
      "| Training - Epoch 64 |   0.13271852  |    0.8376757    |\n",
      "| Training - Epoch 65 |   0.13009839  |    0.8404648    |\n",
      "| Training - Epoch 66 |   0.1335366   |    0.8367822    |\n",
      "| Training - Epoch 67 |   0.13157183  |     0.839136    |\n",
      "| Training - Epoch 68 |   0.12989978  |    0.8408438    |\n",
      "| Training - Epoch 69 |   0.1308544   |    0.83937895   |\n",
      "| Training - Epoch 70 |   0.13109103  |    0.8396933    |\n",
      "| Training - Epoch 71 |   0.12871577  |    0.8420944    |\n",
      "| Training - Epoch 72 |   0.12904197  |    0.84163225   |\n",
      "| Training - Epoch 73 |   0.13191248  |    0.8391521    |\n",
      "| Training - Epoch 74 |   0.13515855  |    0.83488923   |\n",
      "| Training - Epoch 75 |   0.13557386  |    0.8340226    |\n",
      "| Training - Epoch 76 |   0.12815756  |    0.84280896   |\n",
      "| Training - Epoch 77 |  0.123123065  |    0.8487365    |\n",
      "| Training - Epoch 78 |   0.11990717  |    0.8525989    |\n",
      "| Training - Epoch 79 |   0.11860943  |    0.8538492    |\n",
      "| Training - Epoch 80 |  0.116205245  |    0.8567951    |\n",
      "| Training - Epoch 81 |   0.1139259   |    0.85956496   |\n",
      "| Training - Epoch 82 |   0.11484493  |    0.85806805   |\n",
      "| Training - Epoch 83 |  0.118135996  |    0.85460705   |\n",
      "| Training - Epoch 84 |  0.117428504  |    0.8553363    |\n",
      "| Training - Epoch 85 |  0.117912345  |    0.8547852    |\n",
      "| Training - Epoch 86 |   0.12057873  |    0.8517606    |\n",
      "| Training - Epoch 87 |   0.1156166   |    0.85745555   |\n",
      "| Training - Epoch 88 |   0.11006204  |    0.86417633   |\n",
      "| Training - Epoch 89 |   0.10732155  |    0.86740583   |\n",
      "| Training - Epoch 90 |   0.10523063  |    0.8699375    |\n",
      "| Training - Epoch 91 |   0.10606623  |    0.8685584    |\n",
      "| Training - Epoch 92 |   0.10336233  |    0.8722226    |\n",
      "| Training - Epoch 93 |  0.102976285  |    0.8725179    |\n",
      "| Training - Epoch 94 |   0.10273863  |    0.87283945   |\n",
      "| Training - Epoch 95 |   0.1035166   |     0.87168     |\n",
      "| Training - Epoch 96 |  0.104159266  |    0.8710706    |\n",
      "| Training - Epoch 97 |   0.10435573  |     0.870847    |\n",
      "| Training - Epoch 98 |   0.10164869  |     0.874066    |\n",
      "| Training - Epoch 99 |   0.09803574  |    0.8788675    |\n",
      "+---------------------+---------------+-----------------+\n",
      "+-----------------------+---------------+-----------------+\n",
      "|         Phase         | dice_loss (L) | dice_metric (M) |\n",
      "+-----------------------+---------------+-----------------+\n",
      "|  Validation - Epoch 0 |   0.9570394   |   0.016525613   |\n",
      "|  Validation - Epoch 1 |   0.8670632   |    0.15736562   |\n",
      "|  Validation - Epoch 2 |   0.81247616  |    0.20052022   |\n",
      "|  Validation - Epoch 3 |   0.7304199   |    0.26445675   |\n",
      "|  Validation - Epoch 4 |   0.66452676  |    0.28715408   |\n",
      "|  Validation - Epoch 5 |   0.6364604   |    0.2802776    |\n",
      "|  Validation - Epoch 6 |    0.589532   |    0.29634506   |\n",
      "|  Validation - Epoch 7 |   0.52857757  |    0.38317478   |\n",
      "|  Validation - Epoch 8 |   0.5254625   |    0.4197179    |\n",
      "|  Validation - Epoch 9 |   0.48441485  |    0.4504429    |\n",
      "| Validation - Epoch 10 |   0.44216666  |    0.5117931    |\n",
      "| Validation - Epoch 11 |   0.43069893  |    0.5069056    |\n",
      "| Validation - Epoch 12 |   0.4061621   |    0.5233639    |\n",
      "| Validation - Epoch 13 |   0.37491447  |    0.58241683   |\n",
      "| Validation - Epoch 14 |   0.32525268  |    0.63320774   |\n",
      "| Validation - Epoch 15 |   0.30629432  |    0.6497538    |\n",
      "| Validation - Epoch 16 |   0.2963128   |    0.6676201    |\n",
      "| Validation - Epoch 17 |   0.28008187  |    0.6828886    |\n",
      "| Validation - Epoch 18 |   0.2775511   |     0.680407    |\n",
      "| Validation - Epoch 19 |   0.26547855  |    0.69308585   |\n",
      "| Validation - Epoch 20 |   0.25937316  |    0.7009227    |\n",
      "| Validation - Epoch 21 |   0.26681474  |    0.68749523   |\n",
      "| Validation - Epoch 22 |   0.25268862  |    0.7049426    |\n",
      "| Validation - Epoch 23 |   0.24789101  |    0.71041745   |\n",
      "| Validation - Epoch 24 |   0.23929262  |    0.7213694    |\n",
      "| Validation - Epoch 25 |   0.24756855  |    0.7103108    |\n",
      "| Validation - Epoch 26 |   0.26322424  |    0.69238853   |\n",
      "| Validation - Epoch 27 |    0.232656   |    0.72803175   |\n",
      "| Validation - Epoch 28 |   0.23335035  |    0.72478056   |\n",
      "| Validation - Epoch 29 |   0.2262453   |    0.7332322    |\n",
      "| Validation - Epoch 30 |   0.2336309   |     0.725255    |\n",
      "| Validation - Epoch 31 |   0.23645836  |    0.7207411    |\n",
      "| Validation - Epoch 32 |   0.23788172  |    0.71653247   |\n",
      "| Validation - Epoch 33 |   0.23992379  |    0.71648484   |\n",
      "| Validation - Epoch 34 |   0.22072223  |    0.7384725    |\n",
      "| Validation - Epoch 35 |   0.22675985  |    0.7298458    |\n",
      "| Validation - Epoch 36 |   0.22124603  |    0.7381536    |\n",
      "| Validation - Epoch 37 |   0.2270001   |    0.72964424   |\n",
      "| Validation - Epoch 38 |   0.22317055  |    0.7370104    |\n",
      "| Validation - Epoch 39 |   0.22189079  |    0.7361401    |\n",
      "| Validation - Epoch 40 |   0.22625054  |     0.73191     |\n",
      "| Validation - Epoch 41 |   0.23855263  |    0.71945995   |\n",
      "| Validation - Epoch 42 |   0.2189256   |    0.7395605    |\n",
      "| Validation - Epoch 43 |   0.22327617  |    0.73640513   |\n",
      "| Validation - Epoch 44 |   0.22142166  |    0.7367839    |\n",
      "| Validation - Epoch 45 |   0.22491997  |     0.733044    |\n",
      "| Validation - Epoch 46 |   0.22883797  |    0.7295241    |\n",
      "| Validation - Epoch 47 |   0.21063563  |    0.74986273   |\n",
      "| Validation - Epoch 48 |   0.22509585  |    0.7313379    |\n",
      "| Validation - Epoch 49 |   0.2212674   |    0.7377741    |\n",
      "| Validation - Epoch 50 |   0.2244699   |     0.733831    |\n",
      "| Validation - Epoch 51 |   0.22945888  |    0.7262608    |\n",
      "| Validation - Epoch 52 |   0.2058973   |    0.75374484   |\n",
      "| Validation - Epoch 53 |   0.22491755  |    0.7324882    |\n",
      "| Validation - Epoch 54 |   0.22181457  |    0.73765427   |\n",
      "| Validation - Epoch 55 |   0.23479074  |    0.7206676    |\n",
      "| Validation - Epoch 56 |   0.22527419  |    0.7325076    |\n",
      "| Validation - Epoch 57 |   0.2175337   |    0.74109715   |\n",
      "| Validation - Epoch 58 |   0.22807413  |    0.72853583   |\n",
      "| Validation - Epoch 59 |   0.2259437   |    0.7326923    |\n",
      "| Validation - Epoch 60 |   0.21525896  |     0.743172    |\n",
      "| Validation - Epoch 61 |   0.21894763  |    0.73924744   |\n",
      "| Validation - Epoch 62 |   0.21902196  |    0.74099267   |\n",
      "| Validation - Epoch 63 |   0.2173655   |    0.74208236   |\n",
      "| Validation - Epoch 64 |   0.22570038  |    0.7337819    |\n",
      "| Validation - Epoch 65 |   0.20882678  |    0.75203204   |\n",
      "| Validation - Epoch 66 |   0.22617896  |    0.73381704   |\n",
      "| Validation - Epoch 67 |   0.21483304  |    0.74527717   |\n",
      "| Validation - Epoch 68 |   0.22364633  |    0.73528004   |\n",
      "| Validation - Epoch 69 |   0.22180921  |    0.7379929    |\n",
      "| Validation - Epoch 70 |   0.22022909  |    0.7406037    |\n",
      "| Validation - Epoch 71 |   0.21549925  |    0.7460614    |\n",
      "| Validation - Epoch 72 |   0.2153164   |    0.7442425    |\n",
      "| Validation - Epoch 73 |   0.21884777  |    0.74184155   |\n",
      "| Validation - Epoch 74 |   0.21834463  |    0.7414158    |\n",
      "| Validation - Epoch 75 |   0.22214131  |    0.7379339    |\n",
      "| Validation - Epoch 76 |    0.225606   |    0.7343183    |\n",
      "| Validation - Epoch 77 |   0.22772455  |    0.73196733   |\n",
      "| Validation - Epoch 78 |   0.2193401   |    0.73966295   |\n",
      "| Validation - Epoch 79 |   0.21910433  |    0.7403678    |\n",
      "| Validation - Epoch 80 |   0.21904033  |    0.74091613   |\n",
      "| Validation - Epoch 81 |   0.21614891  |    0.7442871    |\n",
      "| Validation - Epoch 82 |   0.23111206  |    0.7284207    |\n",
      "| Validation - Epoch 83 |   0.21188675  |    0.7492952    |\n",
      "| Validation - Epoch 84 |   0.21983238  |    0.7396833    |\n",
      "| Validation - Epoch 85 |   0.22066042  |    0.7408255    |\n",
      "| Validation - Epoch 86 |   0.22533165  |    0.73511606   |\n",
      "| Validation - Epoch 87 |   0.22145756  |    0.7385207    |\n",
      "| Validation - Epoch 88 |   0.22108372  |    0.73927057   |\n",
      "| Validation - Epoch 89 |   0.21314208  |    0.7483041    |\n",
      "| Validation - Epoch 90 |   0.22097576  |    0.74045753   |\n",
      "| Validation - Epoch 91 |   0.22440988  |    0.73562264   |\n",
      "| Validation - Epoch 92 |   0.21897773  |    0.74295795   |\n",
      "| Validation - Epoch 93 |   0.21579893  |    0.74548626   |\n",
      "| Validation - Epoch 94 |   0.22073126  |    0.7395472    |\n",
      "| Validation - Epoch 95 |   0.21831389  |    0.74246985   |\n",
      "| Validation - Epoch 96 |   0.22303335  |    0.7382049    |\n",
      "| Validation - Epoch 97 |   0.22022519  |    0.7411657    |\n",
      "| Validation - Epoch 98 |   0.2283427   |    0.7330771    |\n",
      "| Validation - Epoch 99 |   0.2240463   |    0.7378648    |\n",
      "+-----------------------+---------------+-----------------+\n"
     ]
    }
   ],
   "source": [
    "from IPython.display import clear_output\n",
    "\n",
    "for i in range(NUM_EPOCHS):\n",
    "    clear_output(wait=True)\n",
    "    training_workflow.run()\n",
    "    validation_workflow.run()"
   ]
  },
  {
   "cell_type": "code",
   "execution_count": 26,
   "metadata": {},
   "outputs": [],
   "source": [
    "import torch\n",
    "torch.save(model.state_dict(), 'models/vnet_valid13092020.pt')"
   ]
  },
  {
   "cell_type": "code",
   "execution_count": null,
   "metadata": {},
   "outputs": [],
   "source": []
  }
 ],
 "metadata": {
  "kernelspec": {
   "display_name": "Python 3",
   "language": "python",
   "name": "python3"
  },
  "language_info": {
   "codemirror_mode": {
    "name": "ipython",
    "version": 3
   },
   "file_extension": ".py",
   "mimetype": "text/x-python",
   "name": "python",
   "nbconvert_exporter": "python",
   "pygments_lexer": "ipython3",
   "version": "3.6.9"
  }
 },
 "nbformat": 4,
 "nbformat_minor": 4
}
