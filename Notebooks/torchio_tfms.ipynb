{
 "cells": [
  {
   "cell_type": "markdown",
   "metadata": {},
   "source": [
    "# Torchio wrapper\n",
    "    - https://github.com/fepegar/torchio/issues/221"
   ]
  },
  {
   "cell_type": "code",
   "execution_count": 22,
   "metadata": {},
   "outputs": [],
   "source": [
    "import torchio"
   ]
  },
  {
   "cell_type": "code",
   "execution_count": 9,
   "metadata": {},
   "outputs": [
    {
     "name": "stdout",
     "output_type": "stream",
     "text": [
      "If you use TorchIO for your research, please cite the following paper:\n",
      "Pérez-García et al., TorchIO: a Python library for efficient loading,\n",
      "preprocessing, augmentation and patch-based sampling of medical images\n",
      "in deep learning. Link: https://arxiv.org/abs/2003.04696\n",
      "\n"
     ]
    }
   ],
   "source": [
    "from torchio.transforms import (\n",
    "    RandomFlip,\n",
    "    RandomElasticDeformation,\n",
    "    RandomMotion,\n",
    "    RandomGhosting,\n",
    "    RandomSpike,\n",
    "    RandomBiasField,\n",
    "    RandomBlur,\n",
    "    RandomNoise\n",
    ")"
   ]
  },
  {
   "cell_type": "code",
   "execution_count": 11,
   "metadata": {},
   "outputs": [],
   "source": [
    "class EisenTransformWrapper:\n",
    "    \n",
    "    def __init__(self, transform, fields, label):\n",
    "        super(EisenTransformWrapper, self).__init__()\n",
    "        from torchio import Subject, ScalarImage, LabelMap\n",
    "        self.fields = fields\n",
    "        self.transform = transform\n",
    "        self.label = label\n",
    "\n",
    "    def __call__(self, data):\n",
    "        \n",
    "        subject = Subject(\n",
    "        ct=ScalarImage(tensor=data['ct']),  # this class is new\n",
    "        t1=ScalarImage(tensor=data['t1']),\n",
    "        t2=ScalarImage(tensor=data['t2']),\n",
    "        label=LabelMap(tensor=data[self.label]),\n",
    "        )\n",
    "        \n",
    "        transformed = self.transform(subject)\n",
    "        \n",
    "        data['ct'] = transformed['ct'].numpy()\n",
    "        data['t1'] = transformed['t1'].numpy()\n",
    "        data['t2'] = transformed['t2'].numpy()\n",
    "        data[self.label] = transformed[self.label].numpy()\n",
    "        \n",
    "        return data"
   ]
  },
  {
   "cell_type": "code",
   "execution_count": null,
   "metadata": {},
   "outputs": [],
   "source": [
    "from torchio import Subject, ScalarImage, RandomAffine\n",
    "subject = Subject(\n",
    "    t1=ScalarImage(tensor=image_t1),  # this class is new\n",
    "    t1c=ScalarImage(tensor=image_t1c),\n",
    "    t2=ScalarImage(tensor=image_t2),\n",
    "    flair=ScalarImage(tensor=image_flair),\n",
    ")\n",
    "transform = RandomAffine()\n",
    "transformed = transform(subject)\n",
    "image_t1_transformed = transformed.t1.numpy()  # or transformed['t1'].numpy()"
   ]
  },
  {
   "cell_type": "code",
   "execution_count": 59,
   "metadata": {},
   "outputs": [
    {
     "data": {
      "text/plain": [
       "(numpy.ndarray, numpy.ndarray)"
      ]
     },
     "execution_count": 59,
     "metadata": {},
     "output_type": "execute_result"
    }
   ],
   "source": [
    "sample = input_sample['ct']\n",
    "label = input_sample['label_task1']\n",
    "type(label), type(sample)"
   ]
  },
  {
   "cell_type": "code",
   "execution_count": 60,
   "metadata": {},
   "outputs": [
    {
     "data": {
      "text/plain": [
       "((1, 128, 128, 128), (5, 128, 128, 128))"
      ]
     },
     "execution_count": 60,
     "metadata": {},
     "output_type": "execute_result"
    }
   ],
   "source": [
    "sample = sample[None, :, :, :]\n",
    "label = label\n",
    "dict_only = {'ct':sample, 'label_task1':label}\n",
    "\n",
    "sample.shape, label.shape"
   ]
  },
  {
   "cell_type": "code",
   "execution_count": 61,
   "metadata": {},
   "outputs": [],
   "source": [
    "rFlip = RandomFlip(axes=(0, 1, 2), keys=list(dict_only.keys()))"
   ]
  },
  {
   "cell_type": "code",
   "execution_count": 62,
   "metadata": {},
   "outputs": [
    {
     "data": {
      "text/plain": [
       "dict_keys(['ct', 'label_task1'])"
      ]
     },
     "execution_count": 62,
     "metadata": {},
     "output_type": "execute_result"
    }
   ],
   "source": [
    "out = rFlip(dict_only)\n",
    "out.keys()"
   ]
  },
  {
   "cell_type": "code",
   "execution_count": 63,
   "metadata": {},
   "outputs": [
    {
     "data": {
      "text/plain": [
       "(torch.Size([1, 128, 128, 128]), torch.Size([5, 128, 128, 128]))"
      ]
     },
     "execution_count": 63,
     "metadata": {},
     "output_type": "execute_result"
    }
   ],
   "source": [
    "transformed_x = out['ct']\n",
    "transformed_y = out['label_task1']\n",
    "\n",
    "transformed_x.shape, transformed_y.shape"
   ]
  },
  {
   "cell_type": "code",
   "execution_count": null,
   "metadata": {},
   "outputs": [],
   "source": []
  }
 ],
 "metadata": {
  "kernelspec": {
   "display_name": "Python 3",
   "language": "python",
   "name": "python3"
  },
  "language_info": {
   "codemirror_mode": {
    "name": "ipython",
    "version": 3
   },
   "file_extension": ".py",
   "mimetype": "text/x-python",
   "name": "python",
   "nbconvert_exporter": "python",
   "pygments_lexer": "ipython3",
   "version": "3.6.9"
  }
 },
 "nbformat": 4,
 "nbformat_minor": 4
}
