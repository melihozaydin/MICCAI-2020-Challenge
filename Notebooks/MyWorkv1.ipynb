{
 "cells": [
  {
   "cell_type": "code",
   "execution_count": 82,
   "metadata": {},
   "outputs": [],
   "source": [
    "from torch.utils.data import random_split as random_split\n",
    "\n",
    "train_size = int(0.8 * len(dataset))\n",
    "test_size = len(dataset) - train_size\n",
    "\n",
    "train_set , val_set= random_split(dataset, [train_size, test_size])"
   ]
  },
  {
   "cell_type": "code",
   "execution_count": 83,
   "metadata": {},
   "outputs": [
    {
     "name": "stdout",
     "output_type": "stream",
     "text": [
      "train_set (36, 2)\n",
      "val_set (9, 2)\n"
     ]
    }
   ],
   "source": [
    "print('train_set', np.shape(train_set))\n",
    "print('val_set', np.shape(val_set))"
   ]
  },
  {
   "cell_type": "code",
   "execution_count": 84,
   "metadata": {},
   "outputs": [
    {
     "name": "stdout",
     "output_type": "stream",
     "text": [
      "torch.Size([2, 492, 194, 142]) torch.Size([2, 164, 194, 142])\n"
     ]
    }
   ],
   "source": [
    "train_loader = torch.utils.data.DataLoader(train_set, shuffle=True, batch_size=2)\n",
    "val_loader = torch.utils.data.DataLoader(val_set, shuffle=True)\n",
    "i1, l1 = next(iter(train_loader))\n",
    "print(i1.shape, l1.shape)"
   ]
  },
  {
   "cell_type": "markdown",
   "metadata": {},
   "source": [
    "# Model Definition\n",
    "\n",
    "This model will be designed for stacked image as input\n",
    "\n",
    "https://github.com/jcreinhold/synthit\n",
    "\n",
    "https://github.com/jcreinhold/synthtorch/blob/master/synthtorch/models/unet.py\n",
    "\n",
    "# alternative\n",
    "https://github.com/ellisdg/3DUnetCNN  \n",
    "https://github.com/Jack-Etheredge/Brain-Tumor-Segmentation-3D-UNet-CNN  \n",
    "https://github.com/mateuszbuda/brain-segmentation-pytorch  \n",
    "\n",
    "https://paperswithcode.com/task/medical-image-segmentation  \n",
    "\n",
    "https://towardsdatascience.com/deep-learning-with-magnetic-resonance-and-computed-tomography-images-e9f32273dcb5  "
   ]
  },
  {
   "cell_type": "code",
   "execution_count": 85,
   "metadata": {},
   "outputs": [],
   "source": [
    "import fastai as fai\n",
    "import fastai.vision as faiv"
   ]
  },
  {
   "cell_type": "code",
   "execution_count": 86,
   "metadata": {},
   "outputs": [],
   "source": [
    "!pip install git+git://github.com/jcreinhold/niftidataset.git -q\n",
    "!pip install git+git://github.com/jcreinhold/synthtorch.git -q"
   ]
  },
  {
   "cell_type": "code",
   "execution_count": 87,
   "metadata": {},
   "outputs": [],
   "source": [
    "from synthtorch.models import Unet"
   ]
  },
  {
   "cell_type": "code",
   "execution_count": 88,
   "metadata": {},
   "outputs": [],
   "source": [
    "idb = faiv.ImageDataBunch.create(train_set, val_set, bs=2, num_workers=1)"
   ]
  },
  {
   "cell_type": "code",
   "execution_count": 89,
   "metadata": {},
   "outputs": [
    {
     "data": {
      "text/plain": [
       "(164, 194, 142)"
      ]
     },
     "execution_count": 89,
     "metadata": {},
     "output_type": "execute_result"
    }
   ],
   "source": [
    "np.shape(idb.valid_ds[0][1])"
   ]
  },
  {
   "cell_type": "code",
   "execution_count": 90,
   "metadata": {},
   "outputs": [],
   "source": [
    "from torch import nn\n",
    "loss = nn.MSELoss()\n",
    "loss.__name__ = 'MSE'"
   ]
  },
  {
   "cell_type": "code",
   "execution_count": 91,
   "metadata": {},
   "outputs": [],
   "source": [
    "model = Unet(1, channel_base_power=1)\n",
    "learner = faiv.Learner(idb, model, loss_func=loss, metrics=[loss])"
   ]
  },
  {
   "cell_type": "code",
   "execution_count": null,
   "metadata": {},
   "outputs": [],
   "source": [
    "for x,y in idb.train_dl:\n",
    "    print(loss(learner.model(x),y.long()))"
   ]
  },
  {
   "cell_type": "code",
   "execution_count": null,
   "metadata": {},
   "outputs": [],
   "source": [
    "learner.lr_find()\n",
    "learner.recorder.plot()"
   ]
  },
  {
   "cell_type": "code",
   "execution_count": null,
   "metadata": {},
   "outputs": [],
   "source": []
  }
 ],
 "metadata": {
  "kernelspec": {
   "display_name": "Python 3",
   "language": "python",
   "name": "python3"
  },
  "language_info": {
   "codemirror_mode": {
    "name": "ipython",
    "version": 3
   },
   "file_extension": ".py",
   "mimetype": "text/x-python",
   "name": "python",
   "nbconvert_exporter": "python",
   "pygments_lexer": "ipython3",
   "version": "3.6.9"
  }
 },
 "nbformat": 4,
 "nbformat_minor": 4
}
